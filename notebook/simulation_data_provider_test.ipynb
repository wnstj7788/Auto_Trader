{
 "cells": [
  {
   "cell_type": "code",
   "execution_count": 1,
   "id": "needed-liverpool",
   "metadata": {},
   "outputs": [],
   "source": [
    "import os\n",
    "os.chdir('../')"
   ]
  },
  {
   "cell_type": "markdown",
   "id": "existing-authorization",
   "metadata": {},
   "source": [
    "### 현재 디렉토리가 smtm 프로젝트 root로 설정되었는지 확인"
   ]
  },
  {
   "cell_type": "code",
   "execution_count": 2,
   "id": "apart-eclipse",
   "metadata": {},
   "outputs": [
    {
     "name": "stdout",
     "output_type": "stream",
     "text": [
      "현재 디렉토리  /home/jun/Desktop/smtmJupyter/Money/smtm\n"
     ]
    }
   ],
   "source": [
    "print(\"현재 디렉토리 \" , os.getcwd())"
   ]
  },
  {
   "cell_type": "code",
   "execution_count": 3,
   "id": "virgin-ballet",
   "metadata": {},
   "outputs": [
    {
     "name": "stderr",
     "output_type": "stream",
     "text": [
      "2024-05-10 15:49:10,800  INFO       DataRepository - get data from repo: 2020-04-30T06:40:00 to 2020-04-30T07:30:00, KRW-BTC\n",
      "2024-05-10 15:49:10,801  INFO       DataRepository - total vs database: 50 vs 0\n",
      "2024-05-10 15:49:10,802  INFO       DataRepository - query from 2020-04-30T06:40:00 to 2020-04-30T07:30:00, count: 50\n",
      "2024-05-10 15:49:10,802  INFO       DataRepository - fetch from upbit\n",
      "2024-05-10 15:49:10,802 DEBUG       DataRepository - query_string {'market': 'KRW-BTC', 'to': '2020-04-29T22:30:00Z', 'count': 50}\n",
      "2024-05-10 15:49:10,902  INFO             Database - Updated: 50\n",
      "2024-05-10 15:49:10,905  INFO       DataRepository - update database: 50\n"
     ]
    }
   ],
   "source": [
    "from smtm import SimulationDataProvider\n",
    "dp = SimulationDataProvider()\n",
    "end_date = \"2020-04-30T07:30:00\"\n",
    "dp.initialize_simulation(end=end_date, count=50)"
   ]
  },
  {
   "cell_type": "markdown",
   "id": "placed-atlanta",
   "metadata": {},
   "source": [
    "### 첫번째 데이터\n",
    "```\n",
    "{'market': 'KRW-BTC',\n",
    " 'date_time': '2020-04-30T15:40:00',\n",
    " 'opening_price': 11356000.0,\n",
    " 'high_price': 11372000.0,\n",
    " 'low_price': 11356000.0,\n",
    " 'closing_price': 11372000.0,\n",
    " 'acc_price': 116037727.81296,\n",
    " 'acc_volume': 10.20941879}\n",
    "```"
   ]
  },
  {
   "cell_type": "code",
   "execution_count": null,
   "id": "historic-speaker",
   "metadata": {},
   "outputs": [],
   "source": [
    "dp.get_info()"
   ]
  },
  {
   "cell_type": "markdown",
   "id": "common-contemporary",
   "metadata": {},
   "source": [
    "### 두번째 데이터\n",
    "```\n",
    "{'market': 'KRW-BTC',\n",
    " 'date_time': '2020-04-30T15:41:00',\n",
    " 'opening_price': 11370000.0,\n",
    " 'high_price': 11372000.0,\n",
    " 'low_price': 11360000.0,\n",
    " 'closing_price': 11370000.0,\n",
    " 'acc_price': 239216440.29876,\n",
    " 'acc_volume': 21.05049702}\n",
    "```"
   ]
  },
  {
   "cell_type": "code",
   "execution_count": null,
   "id": "compact-pasta",
   "metadata": {},
   "outputs": [],
   "source": [
    "dp.get_info()"
   ]
  },
  {
   "cell_type": "code",
   "execution_count": null,
   "id": "given-notion",
   "metadata": {},
   "outputs": [],
   "source": []
  }
 ],
 "metadata": {
  "kernelspec": {
   "display_name": "venv",
   "language": "python",
   "name": "venv"
  },
  "language_info": {
   "codemirror_mode": {
    "name": "ipython",
    "version": 3
   },
   "file_extension": ".py",
   "mimetype": "text/x-python",
   "name": "python",
   "nbconvert_exporter": "python",
   "pygments_lexer": "ipython3",
   "version": "3.10.12"
  }
 },
 "nbformat": 4,
 "nbformat_minor": 5
}
