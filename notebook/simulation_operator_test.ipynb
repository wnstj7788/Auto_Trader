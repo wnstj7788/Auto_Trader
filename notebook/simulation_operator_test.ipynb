{
 "cells": [
  {
   "cell_type": "code",
   "execution_count": 1,
   "id": "municipal-classic",
   "metadata": {},
   "outputs": [],
   "source": [
    "import os\n",
    "os.chdir('../')"
   ]
  },
  {
   "cell_type": "markdown",
   "id": "existing-authorization",
   "metadata": {},
   "source": [
    "### 현재 디렉토리가 smtm 프로젝트 root로 설정되었는지 확인"
   ]
  },
  {
   "cell_type": "code",
   "execution_count": 2,
   "id": "apart-eclipse",
   "metadata": {},
   "outputs": [
    {
     "name": "stdout",
     "output_type": "stream",
     "text": [
      "현재 디렉토리  /home/jun/Desktop/smtmJupyter/Money/smtm\n"
     ]
    }
   ],
   "source": [
    "print(\"현재 디렉토리 \" , os.getcwd())"
   ]
  },
  {
   "cell_type": "markdown",
   "id": "eight-differential",
   "metadata": {},
   "source": [
    "#### 시뮬레이션에 사용될 객체 생성 및 초기화"
   ]
  },
  {
   "cell_type": "code",
   "execution_count": 3,
   "id": "scheduled-smile",
   "metadata": {},
   "outputs": [
    {
     "name": "stderr",
     "output_type": "stream",
     "text": [
      "2024-05-10 20:39:59,547  INFO       DataRepository - get data from repo: 2020-12-20T16:00:00 to 2020-12-20T17:30:00, KRW-BTC\n",
      "2024-05-10 20:39:59,548  INFO       DataRepository - total vs database: 90 vs 0\n",
      "2024-05-10 20:39:59,548  INFO       DataRepository - query from 2020-12-20T16:00:00 to 2020-12-20T17:30:00, count: 90\n",
      "2024-05-10 20:39:59,549  INFO       DataRepository - fetch from upbit\n",
      "2024-05-10 20:39:59,549 DEBUG       DataRepository - query_string {'market': 'KRW-BTC', 'to': '2020-12-20T08:30:00Z', 'count': 90}\n",
      "2024-05-10 20:39:59,651  INFO             Database - Updated: 90\n",
      "2024-05-10 20:39:59,662  INFO       DataRepository - update database: 90\n",
      "2024-05-10 20:39:59,665  INFO       DataRepository - get data from repo: 2020-12-20T16:00:00 to 2020-12-20T17:30:00, KRW-BTC\n",
      "2024-05-10 20:39:59,667  INFO       DataRepository - total vs database: 90 vs 90\n",
      "2024-05-10 20:39:59,668  INFO       DataRepository - from database: 90\n",
      "2024-05-10 20:39:59,669 DEBUG        VirtualMarket - Virtual Market is initialized end: 2020-12-20T17:30:00, count: 90\n"
     ]
    }
   ],
   "source": [
    "import time\n",
    "from smtm import (\n",
    "    SimulationDataProvider,\n",
    "    SimulationOperator,\n",
    "    SimulationTrader,\n",
    "    StrategyBuyAndHold,\n",
    "    StrategySma0,\n",
    "    Analyzer,\n",
    "    LogManager,\n",
    ")\n",
    "\n",
    "strategy = StrategyBuyAndHold()\n",
    "#strategy = StrategySma0()\n",
    "strategy.is_simulation = True\n",
    "end_date = \"2020-12-20T17:30:00\"\n",
    "count = 90\n",
    "budget = 100000\n",
    "interval = 0.5\n",
    "time_limit = 15\n",
    "end_str = end_date.replace(\" \", \"T\")\n",
    "\n",
    "data_provider = SimulationDataProvider()\n",
    "data_provider.initialize_simulation(end=end_str, count=count)\n",
    "trader = SimulationTrader()\n",
    "trader.initialize_simulation(end=end_str, count=count, budget=budget)\n",
    "analyzer = Analyzer()\n",
    "analyzer.is_simulation = True"
   ]
  },
  {
   "cell_type": "markdown",
   "id": "tribal-bench",
   "metadata": {},
   "source": [
    "### SimulationOperator 객체 생성 및 초기화"
   ]
  },
  {
   "cell_type": "code",
   "execution_count": null,
   "id": "assured-session",
   "metadata": {},
   "outputs": [],
   "source": [
    "operator = SimulationOperator()\n",
    "operator.initialize(\n",
    "    data_provider,\n",
    "    strategy,\n",
    "    trader,\n",
    "    analyzer,\n",
    "    budget=budget,\n",
    ")\n",
    "#operator.tag = \"SIM-SMA0-201220.160000-201220.173000\"\n",
    "operator.tag = \"SIM-BnH-201220.160000-201220.173000\"\n",
    "operator.state"
   ]
  },
  {
   "cell_type": "markdown",
   "id": "developing-tourism",
   "metadata": {},
   "source": [
    "#### Simulation 간격 설정 및 자동 거래 시작"
   ]
  },
  {
   "cell_type": "code",
   "execution_count": null,
   "id": "saving-hierarchy",
   "metadata": {},
   "outputs": [],
   "source": [
    "operator.set_interval(interval)\n",
    "operator.start()"
   ]
  },
  {
   "cell_type": "markdown",
   "id": "similar-pixel",
   "metadata": {},
   "source": [
    "#### SimulationOperator 상태 확인"
   ]
  },
  {
   "cell_type": "code",
   "execution_count": null,
   "id": "median-ecology",
   "metadata": {},
   "outputs": [],
   "source": [
    "operator.state"
   ]
  },
  {
   "cell_type": "markdown",
   "id": "statutory-adjustment",
   "metadata": {},
   "source": [
    "#### Simulation 거래 결과 목록 출력"
   ]
  },
  {
   "cell_type": "code",
   "execution_count": null,
   "id": "complimentary-parking",
   "metadata": {},
   "outputs": [],
   "source": [
    "operator.get_trading_results()"
   ]
  },
  {
   "cell_type": "markdown",
   "id": "bizarre-chocolate",
   "metadata": {},
   "source": [
    "#### 시뮬레이션 수익률 보고서 출력"
   ]
  },
  {
   "cell_type": "code",
   "execution_count": null,
   "id": "polished-discrimination",
   "metadata": {},
   "outputs": [],
   "source": [
    "def callback(return_report):\n",
    "    print(return_report)\n",
    "\n",
    "operator.get_score(callback, index=-1, graph=True)"
   ]
  },
  {
   "cell_type": "code",
   "execution_count": null,
   "id": "bizarre-robinson",
   "metadata": {},
   "outputs": [],
   "source": [
    "operator.stop()"
   ]
  },
  {
   "cell_type": "markdown",
   "id": "moderate-second",
   "metadata": {},
   "source": [
    "#### 로그 레벨 조정 (CRITICAL=50, ERROR=40, WARN=30, INFO=20, DEBUG=10)"
   ]
  },
  {
   "cell_type": "code",
   "execution_count": null,
   "id": "dying-snowboard",
   "metadata": {},
   "outputs": [],
   "source": [
    "LogManager.set_stream_level(30)"
   ]
  },
  {
   "cell_type": "code",
   "execution_count": null,
   "id": "happy-american",
   "metadata": {},
   "outputs": [],
   "source": [
    "analyzer.info_list[:10]"
   ]
  },
  {
   "cell_type": "code",
   "execution_count": null,
   "id": "pursuant-adoption",
   "metadata": {},
   "outputs": [],
   "source": [
    "operator.tag"
   ]
  },
  {
   "cell_type": "code",
   "execution_count": null,
   "id": "cordless-bronze",
   "metadata": {},
   "outputs": [],
   "source": []
  }
 ],
 "metadata": {
  "kernelspec": {
   "display_name": "venv",
   "language": "python",
   "name": "venv"
  },
  "language_info": {
   "codemirror_mode": {
    "name": "ipython",
    "version": 3
   },
   "file_extension": ".py",
   "mimetype": "text/x-python",
   "name": "python",
   "nbconvert_exporter": "python",
   "pygments_lexer": "ipython3",
   "version": "3.10.12"
  }
 },
 "nbformat": 4,
 "nbformat_minor": 5
}
